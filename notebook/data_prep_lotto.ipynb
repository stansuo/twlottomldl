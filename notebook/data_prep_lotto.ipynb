{
 "cells": [
  {
   "cell_type": "markdown",
   "metadata": {},
   "source": [
    "## Combine weather data from different observatories.\n",
    "- Issues\n",
    "    - aa\n",
    "- Refs\n",
    "    - bb"
   ]
  },
  {
   "cell_type": "markdown",
   "metadata": {},
   "source": [
    "### **===ToDo: 橫向concat，記得要修改欄位名稱，說明是哪個 observatory===**"
   ]
  },
  {
   "cell_type": "code",
   "execution_count": null,
   "metadata": {},
   "outputs": [],
   "source": []
  },
  {
   "cell_type": "code",
   "execution_count": null,
   "metadata": {},
   "outputs": [],
   "source": []
  },
  {
   "cell_type": "code",
   "execution_count": null,
   "metadata": {},
   "outputs": [],
   "source": []
  },
  {
   "cell_type": "code",
   "execution_count": null,
   "metadata": {},
   "outputs": [],
   "source": []
  },
  {
   "cell_type": "code",
   "execution_count": null,
   "metadata": {},
   "outputs": [],
   "source": []
  },
  {
   "cell_type": "code",
   "execution_count": null,
   "metadata": {},
   "outputs": [],
   "source": []
  },
  {
   "cell_type": "code",
   "execution_count": null,
   "metadata": {},
   "outputs": [],
   "source": []
  },
  {
   "cell_type": "markdown",
   "metadata": {},
   "source": [
    "---\n",
    "## Test & Ref codes"
   ]
  },
  {
   "cell_type": "code",
   "execution_count": null,
   "metadata": {},
   "outputs": [],
   "source": [
    "from pathlib import Path\n",
    "from zipfile import ZipFile\n",
    "for year in range(103, 110):\n",
    "    print(f\"start unzip win_nums_{year}.zip\")\n",
    "    with ZipFile(f'../output/win_nums_{year}.zip', 'r') as zf:\n",
    "        for fn in zf.namelist():\n",
    "            extracted_path = Path(zf.extract(fn, path='../output/win_nums_all/'))\n",
    "            extracted_path.rename(f\"../output/win_nums_all/{fn.encode('cp437').decode('big5')}\")\n",
    "else:\n",
    "    print(\"All unzip complete!\")"
   ]
  },
  {
   "cell_type": "code",
   "execution_count": 79,
   "metadata": {},
   "outputs": [],
   "source": [
    "import os\n",
    "import numpy as np\n",
    "import pandas as pd\n",
    "import time\n",
    "\n",
    "def win_nums_csv_to_df(path:str):\n",
    "    df = pd.read_csv(path, \n",
    "                     header=0 , \n",
    "                     parse_dates=True, \n",
    "                     infer_datetime_format=True,\n",
    "                     skipinitialspace=True,\n",
    "                     )\n",
    "    df = df.reset_index()\n",
    "    col_names = list(df.columns)\n",
    "    df = df.iloc[:, 0:13]\n",
    "    df.columns = col_names[4:17]\n",
    "    return df"
   ]
  },
  {
   "cell_type": "code",
   "execution_count": 80,
   "metadata": {
    "collapsed": true,
    "jupyter": {
     "outputs_hidden": true
    }
   },
   "outputs": [
    {
     "name": "stdout",
     "output_type": "stream",
     "text": [
      "   遊戲名稱         期別       開獎日期       銷售總額     銷售注數        總獎金  獎號1  獎號2  獎號3  \\\n",
      "0   大樂透  103000001 2014-01-03  146792850  2935857   80736067   11   18   20   \n",
      "1   大樂透  103000002 2014-01-07  132190750  2643815  106318850    1    7   21   \n",
      "2   大樂透  103000003 2014-01-10  140617450  2812349  149849635    7   17   19   \n",
      "3   大樂透  103000004 2014-01-14  128619400  2572388   70740670    2   11   21   \n",
      "4   大樂透  103000005 2014-01-17  141157800  2823156  108354326   13   15   20   \n",
      "..  ...        ...        ...        ...      ...        ...  ...  ...  ...   \n",
      "55  大樂透  109000056 2020-06-16  142703600  2854072  160593624    6   13   20   \n",
      "56  大樂透  109000057 2020-06-19  133453900  2669078   74734184    1   15   16   \n",
      "57  大樂透  109000058 2020-06-23  139006850  2780137  109169790    1    2   16   \n",
      "58  大樂透  109000059 2020-06-26  140647400  2812948  141275751   10   12   16   \n",
      "59  大樂透  109000060 2020-06-30  134411400  2688228  169667082   26   29   31   \n",
      "\n",
      "    獎號4  獎號5  獎號6  特別號  \n",
      "0    21   35   37    8  \n",
      "1    25   35   36   39  \n",
      "2    30   32   37    3  \n",
      "3    41   45   49   26  \n",
      "4    26   29   36   37  \n",
      "..  ...  ...  ...  ...  \n",
      "55   23   29   46   42  \n",
      "56   25   43   46    6  \n",
      "57   22   27   45   13  \n",
      "58   37   40   41    5  \n",
      "59   43   46   49    6  \n",
      "\n",
      "[716 rows x 13 columns]\n"
     ]
    }
   ],
   "source": [
    "# main()\n",
    "base_dir = '../output/win_nums_all/'\n",
    "year_nums_dict = dict()\n",
    "win_nums_all_df = pd.DataFrame(data=None)\n",
    "for year in range(2014, 2021):\n",
    "    dir_path = f'../output/win_nums_all/{year}/'\n",
    "    full_path = \"\"\n",
    "    files = os.listdir(dir_path)\n",
    "    for file in files:\n",
    "        if file.startswith(\"大樂透_\"):\n",
    "            full_path = f'{dir_path}{file}'\n",
    "            df = win_nums_csv_to_df(full_path)\n",
    "            win_nums_all_df = pd.concat([win_nums_all_df, df], axis = 0)\n",
    "else:\n",
    "    print(win_nums_all_df)\n",
    "    win_nums_all_df.to_csv(f'../output/win_nums_all/win_nums_all_{time.strftime(\"%Y%m%dT%H%M%S\", time.localtime())}.csv', encoding= \"big5\", index = False )"
   ]
  },
  {
   "cell_type": "code",
   "execution_count": null,
   "metadata": {},
   "outputs": [],
   "source": []
  },
  {
   "cell_type": "code",
   "execution_count": null,
   "metadata": {},
   "outputs": [],
   "source": []
  },
  {
   "cell_type": "code",
   "execution_count": null,
   "metadata": {},
   "outputs": [],
   "source": []
  },
  {
   "cell_type": "code",
   "execution_count": null,
   "metadata": {},
   "outputs": [],
   "source": []
  }
 ],
 "metadata": {
  "kernelspec": {
   "display_name": "Python 3",
   "language": "python",
   "name": "python3"
  },
  "language_info": {
   "codemirror_mode": {
    "name": "ipython",
    "version": 3
   },
   "file_extension": ".py",
   "mimetype": "text/x-python",
   "name": "python",
   "nbconvert_exporter": "python",
   "pygments_lexer": "ipython3",
   "version": "3.8.1"
  }
 },
 "nbformat": 4,
 "nbformat_minor": 4
}
