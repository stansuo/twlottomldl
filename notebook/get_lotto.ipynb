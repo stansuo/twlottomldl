{
 "cells": [
  {
   "cell_type": "markdown",
   "metadata": {},
   "source": [
    "[各期獎號下載 (Historical Winning Number Download)](https://www.taiwanlottery.com.tw/info/download_history.asp): 2004-2020 各種樂透的獎號, in zip"
   ]
  },
  {
   "cell_type": "code",
   "execution_count": 14,
   "metadata": {},
   "outputs": [
    {
     "name": "stdout",
     "output_type": "stream",
     "text": [
      "Downloading year 103...\n",
      "Downloading year 104...\n",
      "Downloading year 105...\n",
      "Downloading year 106...\n",
      "Downloading year 107...\n",
      "Downloading year 108...\n",
      "Downloading year 109...\n",
      "All download complete\n"
     ]
    }
   ],
   "source": [
    "import requests\n",
    "for year in range(103, 110):\n",
    "    url = f'https://www.taiwanlottery.com.tw/info/download/{year}.zip'\n",
    "    print(f\"Downloading year {year}...\")\n",
    "    r = requests.get(url, allow_redirects=True)\n",
    "    if r.status_code == 200:\n",
    "        with open(f'../output/win_nums_{year}.zip', 'wb') as f:\n",
    "            f.write(r.content)\n",
    "    else:\n",
    "        print(\"ERROR!! status_code != 200\")\n",
    "\n",
    "else: \n",
    "    print(\"All downloads complete\")"
   ]
  }
 ],
 "metadata": {
  "kernelspec": {
   "display_name": "Python 3",
   "language": "python",
   "name": "python3"
  },
  "language_info": {
   "codemirror_mode": {
    "name": "ipython",
    "version": 3
   },
   "file_extension": ".py",
   "mimetype": "text/x-python",
   "name": "python",
   "nbconvert_exporter": "python",
   "pygments_lexer": "ipython3",
   "version": "3.8.1"
  }
 },
 "nbformat": 4,
 "nbformat_minor": 4
}
