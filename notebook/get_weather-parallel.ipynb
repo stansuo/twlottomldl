{
 "cells": [
  {
   "cell_type": "markdown",
   "metadata": {},
   "source": [
    "- [CODiS](https://e-service.cwb.gov.tw/HistoryDataQuery/index.jsp)  (更新時間為每日12:00)\n",
    "- 內湖站氣象觀測日報表(https://e-service.cwb.gov.tw/HistoryDataQuery/DayDataController.do?command=viewMain&station=C0A9F0&stname=%25E5%2585%25A7%25E6%25B9%2596&datepicker=2020-05-05)"
   ]
  },
  {
   "cell_type": "code",
   "execution_count": 1,
   "metadata": {},
   "outputs": [],
   "source": [
    "from multiprocessing import Pool, TimeoutError"
   ]
  },
  {
   "cell_type": "code",
   "execution_count": 2,
   "metadata": {},
   "outputs": [],
   "source": [
    "import requests\n",
    "import datetime\n",
    "import time\n",
    "import random\n",
    "from pyquery import PyQuery as pq\n",
    "from selenium import webdriver\n",
    "import urllib.parse\n",
    "import numpy as np\n",
    "import pandas as pd "
   ]
  },
  {
   "cell_type": "code",
   "execution_count": 3,
   "metadata": {},
   "outputs": [],
   "source": [
    "# import datetime\n",
    "def get_dates(start_date = datetime.date(2019, 1, 1), \n",
    "              end_date = datetime.date(2019, 1, 31) , \n",
    "              day_delta = datetime.timedelta(days=1)):\n",
    "    '''\n",
    "    Get the date strings from start_date to end_date, with step day_delta.\n",
    "    start_date: datetime.date(2019, 1, 1)\n",
    "    end_date: datetime.date(2019, 1, 31)\n",
    "    day_delta: datetime.timedelta(days=1)\n",
    "    '''\n",
    "    dates_str_list = [(start_date + i*day_delta).isoformat() for i in range((end_date - start_date).days + 1)]\n",
    "    return dates_str_list\n",
    "    \n",
    "# dates_str_list = []\n",
    "# for i in range((end_date - start_date).days + 1):\n",
    "#     dates_str_list.append(str(start_date + i*day_delta))\n",
    "#     print(dates_str_list)\n",
    "\n",
    "# while start_date <= end_date:\n",
    "#     print(start_date)\n",
    "#     start_date += delta\n",
    "\n",
    "# for i in range((end_date - start_date).days):\n",
    "#     print(start_date + i*day_delta)"
   ]
  },
  {
   "cell_type": "code",
   "execution_count": 4,
   "metadata": {},
   "outputs": [],
   "source": [
    "# from pyquery import PyQuery as pq\n",
    "def get_cwb_weather_info(base_url:str, date:str) -> dict:\n",
    "    '''\n",
    "    Return the presure(hPa), temperature(Celsius), relative humidity(%) of the date.\n",
    "    base_url: str\n",
    "    date: str, eg. 2020-01-31 (YYYY-MM-DD)\n",
    "    '''\n",
    "    url = f\"{base_url}{date}\"\n",
    "    print(url)\n",
    "    pres_hpa_css = \"tr:nth-child(22) td:nth-child(2)\"\n",
    "    temp_cels_css = \"tr:nth-child(22) td:nth-child(4)\"\n",
    "    rh_percent_css = \"tr:nth-child(22) td:nth-child(6)\"\n",
    "    \n",
    "    html_doc = pq(url)\n",
    "    try:\n",
    "        pres_hpa = float(html_doc(pres_hpa_css).text())\n",
    "    except Exception as ex:\n",
    "        print(ex, \"at pres_hpa\")\n",
    "        pres_hpa = None\n",
    "    try:\n",
    "        temp_cels = float(html_doc(temp_cels_css).text())\n",
    "    except Exception as ex:\n",
    "        print(ex, \"at temp_cels\")\n",
    "        temp_cels = None\n",
    "    try:\n",
    "        rh_percent = float(html_doc(rh_percent_css).text())\n",
    "    except Exception as ex:\n",
    "        print(ex, \"at rh_percent\")\n",
    "        rh_percent = None\n",
    "#     weather_info_dict[date] = (pres_hpa, temp_cels, rh_percent)\n",
    "    print(\"xxxxxxxxxxxxxxxx\")\n",
    "    return {date: (pres_hpa, temp_cels, rh_percent)}  "
   ]
  },
  {
   "cell_type": "code",
   "execution_count": null,
   "metadata": {},
   "outputs": [
    {
     "name": "stdout",
     "output_type": "stream",
     "text": [
      "time_start:  2020-07-21 20:34:00.452061\n",
      "retrieving...\n"
     ]
    }
   ],
   "source": [
    "# import time\n",
    "# import random\n",
    "# from multiprocessing import Pool, TimeoutError\n",
    "# getting weather info from the designated dates and save it to a dict\n",
    "time_start = datetime.datetime.now()\n",
    "print(\"time_start: \", time_start)\n",
    "cwb_base_url = f\"https://e-service.cwb.gov.tw/HistoryDataQuery/DayDataController.do?command=viewMain&station=C0A9F0&stname=%25E5%2585%25A7%25E6%25B9%2596&datepicker=\"\n",
    "weather_info_dict = dict()\n",
    "all_dates = get_dates()\n",
    "# for d in get_dates(start_date = datetime.date(2020, 1, 1),\n",
    "#                    end_date = datetime.date(2020, 6, 30)):\n",
    "# for d in get_dates():\n",
    "#     print(\"retrieving\", d, \"...\")\n",
    "#     weather_info = get_cwb_weather_info(cwb_base_url, d)\n",
    "#     sleep_secs = random.randint(1, 4)\n",
    "#     time.sleep(sleep_secs)\n",
    "#     weather_info_dict[d] = weather_info\n",
    "\n",
    "\n",
    "p = Pool(10)\n",
    "print(\"retrieving...\")\n",
    "p.map(get_cwb_weather_info, all_dates)\n",
    "\n",
    "p.terminate()\n",
    "p.join()\n",
    "\n",
    "time_rtrv_end = datetime.datetime.now()\n",
    "print(\"time_rtrv_end: \", time_rtrv_end)\n",
    "\n",
    "# # reading and exporting the retrieved weather info\n",
    "# df = pd.DataFrame.from_dict(weather_info_dict, orient='index', columns=['pres_hpa', 'temp_cels', 'rh_percent'])\n",
    "# print(df.head())\n",
    "\n",
    "# # formatting the file name with date & time su\n",
    "# fmt = \"%Y%m%dT%H%M%S\"\n",
    "# t = time.localtime()\n",
    "# df.to_csv(f'../output/weather_info_2020_rtrv{time.strftime(fmt, t)}.csv', index=True,) \n",
    "\n",
    "# time_savefile_end = datetime.datetime.now()\n",
    "# print(\"time_savefile_end: \", time_savefile_end)\n",
    "\n",
    "# # # if you'd like to export zip file containing that csv\n",
    "# # compression_opts = dict(method='zip',\n",
    "# #                         archive_name='out.csv')  \n",
    "\n",
    "# # df.to_csv('../output/weather_info.zip', index=False,\n",
    "# #           compression=compression_opts) \n",
    "# print(\"===============\")\n",
    "# print(\"data retrieval:\", (time_rtrv_end - time_start))\n",
    "# print(\"file saving:\", (time_savefile_end - time_rtrv_end))\n",
    "# print(\"total time:\", (time_savefile_end - time_start))"
   ]
  },
  {
   "cell_type": "code",
   "execution_count": null,
   "metadata": {},
   "outputs": [],
   "source": [
    "# import time\n",
    "# import random\n",
    "# getting weather info from the designated dates and save it to a dict\n",
    "time_start = datetime.datetime.now()\n",
    "print(\"time_start: \", time_start)\n",
    "cwb_base_url = f\"https://e-service.cwb.gov.tw/HistoryDataQuery/DayDataController.do?command=viewMain&station=C0A9F0&stname=%25E5%2585%25A7%25E6%25B9%2596&datepicker=\"\n",
    "weather_info_dict = dict()\n",
    "# for d in get_dates(start_date = datetime.date(2020, 1, 1),\n",
    "#                    end_date = datetime.date(2020, 6, 30)):\n",
    "for d in get_dates():\n",
    "    print(\"retrieving\", d, \"...\")\n",
    "    weather_info = get_cwb_weather_info(cwb_base_url, d)\n",
    "    sleep_secs = random.randint(1, 4)\n",
    "    time.sleep(sleep_secs)\n",
    "    weather_info_dict[d] = weather_info\n",
    "\n",
    "time_rtrv_end = datetime.datetime.now()\n",
    "print(\"time_rtrv_end: \", time_rtrv_end)\n",
    "\n",
    "# reading and exporting the retrieved weather info\n",
    "df = pd.DataFrame.from_dict(weather_info_dict, orient='index', columns=['pres_hpa', 'temp_cels', 'rh_percent'])\n",
    "print(df.head())\n",
    "\n",
    "# formatting the file name with date & time su\n",
    "fmt = \"%Y%m%dT%H%M%S\"\n",
    "t = time.localtime()\n",
    "df.to_csv(f'../output/weather_info_2020_rtrv{time.strftime(fmt, t)}.csv', index=True,) \n",
    "\n",
    "time_savefile_end = datetime.datetime.now()\n",
    "print(\"time_savefile_end: \", time_savefile_end)\n",
    "\n",
    "# # if you'd like to export zip file containing that csv\n",
    "# compression_opts = dict(method='zip',\n",
    "#                         archive_name='out.csv')  \n",
    "\n",
    "# df.to_csv('../output/weather_info.zip', index=False,\n",
    "#           compression=compression_opts) \n",
    "print(\"===============\")\n",
    "print(\"data retrieval:\", (time_rtrv_end - time_start))\n",
    "print(\"file saving:\", (time_savefile_end - time_rtrv_end))\n",
    "print(\"total time:\", (time_savefile_end - time_start))"
   ]
  },
  {
   "cell_type": "markdown",
   "metadata": {},
   "source": [
    "#### Reference:\n",
    "- [pandas.DataFrame.from_dict](https://pandas.pydata.org/pandas-docs/stable/reference/api/pandas.DataFrame.from_dict.html)\n",
    "- [pandas.DataFrame.to_csv](https://pandas.pydata.org/pandas-docs/stable/reference/api/pandas.DataFrame.to_csv.html)"
   ]
  },
  {
   "cell_type": "code",
   "execution_count": null,
   "metadata": {},
   "outputs": [],
   "source": []
  },
  {
   "cell_type": "code",
   "execution_count": null,
   "metadata": {},
   "outputs": [],
   "source": []
  }
 ],
 "metadata": {
  "kernelspec": {
   "display_name": "Python 3",
   "language": "python",
   "name": "python3"
  },
  "language_info": {
   "codemirror_mode": {
    "name": "ipython",
    "version": 3
   },
   "file_extension": ".py",
   "mimetype": "text/x-python",
   "name": "python",
   "nbconvert_exporter": "python",
   "pygments_lexer": "ipython3",
   "version": "3.8.2"
  }
 },
 "nbformat": 4,
 "nbformat_minor": 4
}
