{
 "cells": [
  {
   "cell_type": "code",
   "execution_count": 1,
   "metadata": {},
   "outputs": [],
   "source": [
    "from multiprocessing import Pool\n",
    "\n",
    "def f(x):\n",
    "    return x*x"
   ]
  },
  {
   "cell_type": "code",
   "execution_count": null,
   "metadata": {},
   "outputs": [],
   "source": [
    "with Pool(5) as p:\n",
    "    print(p.map(f, [1, 2, 3]))"
   ]
  },
  {
   "cell_type": "code",
   "execution_count": null,
   "metadata": {},
   "outputs": [],
   "source": [
    "from multiprocessing import Pool\n",
    "import requests\n",
    "from bs4 import BeautifulSoup\n",
    "\n",
    "base_url = 'http://quotes.toscrape.com/page/'\n",
    "\n",
    "all_urls = list()\n",
    "\n",
    "def generate_urls():\n",
    "    for i in range(1,11):\n",
    "        all_urls.append(base_url + str(i))\n",
    "    \n",
    "def scrape(url):\n",
    "    res = requests.get(url)\n",
    "    print(res.status_code, res.url)\n",
    "\n",
    "generate_urls()\n",
    "\n",
    "p = Pool(10)\n",
    "p.map(scrape, all_urls)\n",
    "p.terminate()\n",
    "p.join()"
   ]
  },
  {
   "cell_type": "code",
   "execution_count": 5,
   "metadata": {},
   "outputs": [
    {
     "name": "stdout",
     "output_type": "stream",
     "text": [
      "^C\n",
      "time_start:  2020-07-21 20:50:11.196591\n",
      "retrieving 2019-01-01 ...\n",
      "xxxxxxxxxxxxxxxx\n",
      "retrieving 2019-01-02 ...\n",
      "xxxxxxxxxxxxxxxx\n",
      "retrieving 2019-01-03 ...\n",
      "xxxxxxxxxxxxxxxx\n",
      "retrieving 2019-01-04 ...\n",
      "xxxxxxxxxxxxxxxx\n",
      "retrieving 2019-01-05 ...\n",
      "xxxxxxxxxxxxxxxx\n",
      "retrieving 2019-01-06 ...\n",
      "xxxxxxxxxxxxxxxx\n",
      "retrieving 2019-01-07 ...\n",
      "xxxxxxxxxxxxxxxx\n",
      "retrieving 2019-01-08 ...\n",
      "xxxxxxxxxxxxxxxx\n",
      "retrieving 2019-01-09 ...\n",
      "xxxxxxxxxxxxxxxx\n",
      "retrieving 2019-01-10 ...\n",
      "xxxxxxxxxxxxxxxx\n",
      "retrieving 2019-01-11 ...\n",
      "xxxxxxxxxxxxxxxx\n",
      "retrieving 2019-01-12 ...\n",
      "xxxxxxxxxxxxxxxx\n",
      "retrieving 2019-01-13 ...\n",
      "xxxxxxxxxxxxxxxx\n",
      "retrieving 2019-01-14 ...\n",
      "xxxxxxxxxxxxxxxx\n",
      "retrieving 2019-01-15 ...\n",
      "xxxxxxxxxxxxxxxx\n",
      "retrieving 2019-01-16 ...\n",
      "xxxxxxxxxxxxxxxx\n",
      "retrieving 2019-01-17 ...\n",
      "xxxxxxxxxxxxxxxx\n",
      "retrieving 2019-01-18 ...\n",
      "xxxxxxxxxxxxxxxx\n",
      "retrieving 2019-01-19 ...\n",
      "xxxxxxxxxxxxxxxx\n",
      "retrieving 2019-01-20 ...\n",
      "xxxxxxxxxxxxxxxx\n",
      "retrieving 2019-01-21 ...\n",
      "xxxxxxxxxxxxxxxx\n",
      "retrieving 2019-01-22 ...\n",
      "xxxxxxxxxxxxxxxx\n",
      "retrieving 2019-01-23 ...\n",
      "xxxxxxxxxxxxxxxx\n",
      "retrieving 2019-01-24 ...\n",
      "xxxxxxxxxxxxxxxx\n",
      "retrieving 2019-01-25 ...\n",
      "xxxxxxxxxxxxxxxx\n",
      "retrieving 2019-01-26 ...\n",
      "xxxxxxxxxxxxxxxx\n",
      "retrieving 2019-01-27 ...\n",
      "xxxxxxxxxxxxxxxx\n",
      "retrieving 2019-01-28 ...\n",
      "xxxxxxxxxxxxxxxx\n",
      "retrieving 2019-01-29 ...\n",
      "xxxxxxxxxxxxxxxx\n",
      "retrieving 2019-01-30 ...\n",
      "xxxxxxxxxxxxxxxx\n",
      "retrieving 2019-01-31 ...\n",
      "xxxxxxxxxxxxxxxx\n",
      "time_rtrv_end:  2020-07-21 20:51:57.773099\n",
      "            pres_hpa  temp_cels  rh_percent\n",
      "2019-01-01    1024.8       15.6        99.0\n",
      "2019-01-02    1023.3       17.2       100.0\n",
      "2019-01-03    1023.8       18.6        99.0\n",
      "2019-01-04    1019.6       19.7        97.0\n",
      "2019-01-05    1018.2       19.5        96.0\n",
      "time_savefile_end:  2020-07-21 20:51:57.788028\n",
      "===============\n",
      "data retrieval: 0:01:46.576508\n",
      "file saving: 0:00:00.014929\n",
      "total time: 0:01:46.591437\n"
     ]
    }
   ],
   "source": [
    "! python ../bin/get_weather_info.py"
   ]
  },
  {
   "cell_type": "code",
   "execution_count": null,
   "metadata": {},
   "outputs": [],
   "source": []
  }
 ],
 "metadata": {
  "kernelspec": {
   "display_name": "Python 3",
   "language": "python",
   "name": "python3"
  },
  "language_info": {
   "codemirror_mode": {
    "name": "ipython",
    "version": 3
   },
   "file_extension": ".py",
   "mimetype": "text/x-python",
   "name": "python",
   "nbconvert_exporter": "python",
   "pygments_lexer": "ipython3",
   "version": "3.8.2"
  }
 },
 "nbformat": 4,
 "nbformat_minor": 4
}
