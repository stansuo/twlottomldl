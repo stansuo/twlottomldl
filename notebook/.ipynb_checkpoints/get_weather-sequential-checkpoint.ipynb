{
 "cells": [
  {
   "cell_type": "markdown",
   "metadata": {},
   "source": [
    "- [CODiS](https://e-service.cwb.gov.tw/HistoryDataQuery/index.jsp)  (更新時間為每日12:00)\n",
    "- 內湖站氣象觀測日報表(https://e-service.cwb.gov.tw/HistoryDataQuery/DayDataController.do?command=viewMain&station=C0A9F0&stname=%25E5%2585%25A7%25E6%25B9%2596&datepicker=2020-05-05)"
   ]
  },
  {
   "cell_type": "code",
   "execution_count": 1,
   "metadata": {},
   "outputs": [],
   "source": [
    "import requests\n",
    "import datetime\n",
    "import time\n",
    "import random\n",
    "from pyquery import PyQuery as pq\n",
    "from selenium import webdriver\n",
    "import urllib.parse\n",
    "import numpy as np\n",
    "import pandas as pd "
   ]
  },
  {
   "cell_type": "code",
   "execution_count": 2,
   "metadata": {},
   "outputs": [],
   "source": [
    "# import datetime\n",
    "def get_dates(start_date = datetime.date(2019, 1, 1), \n",
    "              end_date = datetime.date(2019, 1, 31) , \n",
    "              day_delta = datetime.timedelta(days=1)):\n",
    "    '''\n",
    "    Get the date strings from start_date to end_date, with step day_delta.\n",
    "    start_date: datetime.date(2019, 1, 1)\n",
    "    end_date: datetime.date(2019, 1, 31)\n",
    "    day_delta: datetime.timedelta(days=1)\n",
    "    '''\n",
    "    dates_str_list = [(start_date + i*day_delta).isoformat() for i in range((end_date - start_date).days + 1)]\n",
    "    return dates_str_list\n",
    "    \n",
    "# dates_str_list = []\n",
    "# for i in range((end_date - start_date).days + 1):\n",
    "#     dates_str_list.append(str(start_date + i*day_delta))\n",
    "#     print(dates_str_list)\n",
    "\n",
    "# while start_date <= end_date:\n",
    "#     print(start_date)\n",
    "#     start_date += delta\n",
    "\n",
    "# for i in range((end_date - start_date).days):\n",
    "#     print(start_date + i*day_delta)"
   ]
  },
  {
   "cell_type": "code",
   "execution_count": null,
   "metadata": {},
   "outputs": [],
   "source": [
    "# def get_url(base_url: str, url_suffix: str) -> str:\n",
    "#     '''\n",
    "#     Append suffix to base_url, return a url.\n",
    "#     base_url: str\n",
    "#     url_suffixes: str\n",
    "#     ''' \n",
    "    \n",
    "#     return f\"{base_url}{url_suffix}\"\n",
    "    "
   ]
  },
  {
   "cell_type": "code",
   "execution_count": null,
   "metadata": {},
   "outputs": [],
   "source": [
    "# cwb_base_url = f\"https://e-service.cwb.gov.tw/HistoryDataQuery/DayDataController.do?command=viewMain&station=C0A9F0&stname=%25E5%2585%25A7%25E6%25B9%2596&datepicker=\"\n",
    "# for d in get_dates():\n",
    "#     print(get_url(cwb_base_url, d))"
   ]
  },
  {
   "cell_type": "code",
   "execution_count": 3,
   "metadata": {},
   "outputs": [],
   "source": [
    "# from pyquery import PyQuery as pq\n",
    "def get_cwb_weather_info(base_url:str, date:str) -> dict:\n",
    "    '''\n",
    "    Return the presure(hPa), temperature(Celsius), relative humidity(%) of the date.\n",
    "    base_url: str\n",
    "    date: str, eg. 2020-01-31 (YYYY-MM-DD)\n",
    "    '''\n",
    "    url = f\"{base_url}{date}\"\n",
    "    pres_hpa_css = \"tr:nth-child(22) td:nth-child(2)\"\n",
    "    temp_cels_css = \"tr:nth-child(22) td:nth-child(4)\"\n",
    "    rh_percent_css = \"tr:nth-child(22) td:nth-child(6)\"\n",
    "    \n",
    "    html_doc = pq(url)\n",
    "    try:\n",
    "        pres_hpa = float(html_doc(pres_hpa_css).text())\n",
    "    except Exception as ex:\n",
    "        print(ex, \"at pres_hpa\")\n",
    "        pres_hpa = None\n",
    "    try:\n",
    "        temp_cels = float(html_doc(temp_cels_css).text())\n",
    "    except Exception as ex:\n",
    "        print(ex, \"at temp_cels\")\n",
    "        temp_cels = None\n",
    "    try:\n",
    "        rh_percent = float(html_doc(rh_percent_css).text())\n",
    "    except Exception as ex:\n",
    "        print(ex, \"at rh_percent\")\n",
    "        rh_percent = None\n",
    "    \n",
    "    print(\"xxxxxxxxxxxxxxxx\")\n",
    "    return (pres_hpa, temp_cels, rh_percent)   "
   ]
  },
  {
   "cell_type": "code",
   "execution_count": 18,
   "metadata": {},
   "outputs": [],
   "source": [
    "def main(obs_name = \"Neihu\", obs_year = \"test\"):\n",
    "    \n",
    "    time_start = datetime.datetime.now()\n",
    "    print(\"time_start: \", time_start)\n",
    "    \n",
    "    base_urls = {\n",
    "    \"Neihu\" : \"https://e-service.cwb.gov.tw/HistoryDataQuery/DayDataController.do?command=viewMain&station=C0A9F0&stname=%25E5%2585%25A7%25E6%25B9%2596&datepicker=\",\n",
    "    \"Songshan\": \"https://e-service.cwb.gov.tw/HistoryDataQuery/DayDataController.do?command=viewMain&station=C0AH70&stname=%25E6%259D%25BE%25E5%25B1%25B1&datepicker=\",\n",
    "    \"Dazhi\": \"https://e-service.cwb.gov.tw/HistoryDataQuery/DayDataController.do?command=viewMain&station=C0A9A0&stname=%25E5%25A4%25A7%25E7%259B%25B4&datepicker=\",\n",
    "    \"Wenshan\": \"https://e-service.cwb.gov.tw/HistoryDataQuery/DayDataController.do?command=viewMain&station=C0AC80&stname=%25E6%2596%2587%25E5%25B1%25B1&datepicker=\",\n",
    "    \"Xizhi\": \"https://e-service.cwb.gov.tw/HistoryDataQuery/DayDataController.do?command=viewMain&station=C0AH00&stname=%25E6%25B1%2590%25E6%25AD%25A2&datepicker=\",\n",
    "    \"Shihding\": \"https://e-service.cwb.gov.tw/HistoryDataQuery/DayDataController.do?command=viewMain&station=C0A640&stname=%25E7%259F%25B3%25E7%25A2%2587&datepicker=\",\n",
    "    \"Shenkeng\": \"https://e-service.cwb.gov.tw/HistoryDataQuery/DayDataController.do?command=viewMain&station=C0AH80&stname=%25E6%25B7%25B1%25E5%259D%2591&datepicker=\",\n",
    "    } \n",
    "    \n",
    "    date_periods = {\n",
    "    \"2016\": (datetime.date(2016, 1, 1), datetime.date(2016, 12, 31)),\n",
    "    \"2017\": (datetime.date(2017, 1, 1), datetime.date(2017, 12, 31)),\n",
    "    \"2018\": (datetime.date(2018, 1, 1), datetime.date(2018, 12, 31)),\n",
    "    \"2019\": (datetime.date(2019, 1, 1), datetime.date(2019, 12, 31)),\n",
    "    \"2020\": (datetime.date(2020, 1, 1), datetime.date(2020, 6, 30)),\n",
    "    \"test\": (datetime.date(2020, 7, 1), datetime.date(2020, 7, 3)),\n",
    "    }\n",
    "    \n",
    "    weather_info_dict = dict()\n",
    "    base_url = base_urls[obs_name]\n",
    "    start_date = date_periods[obs_year][0]\n",
    "    end_date = date_periods[obs_year][1]\n",
    "\n",
    "    for d in get_dates(start_date = start_date,\n",
    "                       end_date = end_date):\n",
    "        print(\"retrieving\", d, \"...\")\n",
    "        \n",
    "        weather_info = get_cwb_weather_info(base_url, d)\n",
    "        sleep_secs = random.randint(1, 4)\n",
    "        time.sleep(sleep_secs)\n",
    "        weather_info_dict[d] = weather_info\n",
    "\n",
    "    time_rtrv_end = datetime.datetime.now()\n",
    "    print(\"time_rtrv_end: \", time_rtrv_end)\n",
    "    print(\"===============\")\n",
    "\n",
    "    # reading and exporting the retrieved weather info\n",
    "    df = pd.DataFrame.from_dict(weather_info_dict, orient='index', columns=['pres_hpa', 'temp_cels', 'rh_percent'])\n",
    "    print(df.head())\n",
    "    print(\"===============\")\n",
    "\n",
    "    # formatting the file name with date & time su\n",
    "    fmt = \"%Y%m%dT%H%M%S\"\n",
    "    t = time.localtime()\n",
    "    df.to_csv(f'../output/weather_info_{obs_name}_{obs_year}_rtrv{time.strftime(fmt, t)}.csv', index=True,)\n",
    "\n",
    "    time_savefile_end = datetime.datetime.now()\n",
    "    print(f'{obs_name}_{obs_year} file saved')\n",
    "    print(\"time_savefile_end: \", time_savefile_end)\n",
    "\n",
    "    # # if you'd like to export zip file containing that csv\n",
    "    # compression_opts = dict(method='zip',\n",
    "    #                         archive_name='out.csv')  \n",
    "\n",
    "    # df.to_csv('../output/weather_info.zip', index=False,\n",
    "    #           compression=compression_opts) \n",
    "    print(\"===============\")\n",
    "    print(\"data retrieval:\", (time_rtrv_end - time_start))\n",
    "    print(\"file saving:\", (time_savefile_end - time_rtrv_end))\n",
    "    print(\"total time:\", (time_savefile_end - time_start))"
   ]
  },
  {
   "cell_type": "code",
   "execution_count": 19,
   "metadata": {},
   "outputs": [
    {
     "name": "stdout",
     "output_type": "stream",
     "text": [
      "time_start:  2020-07-22 16:12:02.248329\n",
      "retrieving 2016-01-01 ...\n",
      "xxxxxxxxxxxxxxxx\n",
      "retrieving 2016-01-02 ...\n",
      "xxxxxxxxxxxxxxxx\n"
     ]
    },
    {
     "ename": "KeyboardInterrupt",
     "evalue": "",
     "output_type": "error",
     "traceback": [
      "\u001b[1;31m---------------------------------------------------------------------------\u001b[0m",
      "\u001b[1;31mKeyboardInterrupt\u001b[0m                         Traceback (most recent call last)",
      "\u001b[1;32m<ipython-input-19-047f1987e5c4>\u001b[0m in \u001b[0;36m<module>\u001b[1;34m\u001b[0m\n\u001b[0;32m      4\u001b[0m \u001b[1;32mfor\u001b[0m \u001b[0mname\u001b[0m \u001b[1;32min\u001b[0m \u001b[0mobs_names\u001b[0m\u001b[1;33m:\u001b[0m\u001b[1;33m\u001b[0m\u001b[1;33m\u001b[0m\u001b[0m\n\u001b[0;32m      5\u001b[0m     \u001b[1;32mfor\u001b[0m \u001b[0myear\u001b[0m \u001b[1;32min\u001b[0m \u001b[0mobs_years\u001b[0m\u001b[1;33m:\u001b[0m\u001b[1;33m\u001b[0m\u001b[1;33m\u001b[0m\u001b[0m\n\u001b[1;32m----> 6\u001b[1;33m         \u001b[0mmain\u001b[0m\u001b[1;33m(\u001b[0m\u001b[0mobs_name\u001b[0m \u001b[1;33m=\u001b[0m \u001b[0mname\u001b[0m\u001b[1;33m,\u001b[0m \u001b[0mobs_year\u001b[0m \u001b[1;33m=\u001b[0m \u001b[0myear\u001b[0m\u001b[1;33m)\u001b[0m\u001b[1;33m\u001b[0m\u001b[1;33m\u001b[0m\u001b[0m\n\u001b[0m",
      "\u001b[1;32m<ipython-input-18-5c32323fe0f4>\u001b[0m in \u001b[0;36mmain\u001b[1;34m(obs_name, obs_year)\u001b[0m\n\u001b[0;32m     34\u001b[0m         \u001b[0mweather_info\u001b[0m \u001b[1;33m=\u001b[0m \u001b[0mget_cwb_weather_info\u001b[0m\u001b[1;33m(\u001b[0m\u001b[0mbase_url\u001b[0m\u001b[1;33m,\u001b[0m \u001b[0md\u001b[0m\u001b[1;33m)\u001b[0m\u001b[1;33m\u001b[0m\u001b[1;33m\u001b[0m\u001b[0m\n\u001b[0;32m     35\u001b[0m         \u001b[0msleep_secs\u001b[0m \u001b[1;33m=\u001b[0m \u001b[0mrandom\u001b[0m\u001b[1;33m.\u001b[0m\u001b[0mrandint\u001b[0m\u001b[1;33m(\u001b[0m\u001b[1;36m1\u001b[0m\u001b[1;33m,\u001b[0m \u001b[1;36m4\u001b[0m\u001b[1;33m)\u001b[0m\u001b[1;33m\u001b[0m\u001b[1;33m\u001b[0m\u001b[0m\n\u001b[1;32m---> 36\u001b[1;33m         \u001b[0mtime\u001b[0m\u001b[1;33m.\u001b[0m\u001b[0msleep\u001b[0m\u001b[1;33m(\u001b[0m\u001b[0msleep_secs\u001b[0m\u001b[1;33m)\u001b[0m\u001b[1;33m\u001b[0m\u001b[1;33m\u001b[0m\u001b[0m\n\u001b[0m\u001b[0;32m     37\u001b[0m         \u001b[0mweather_info_dict\u001b[0m\u001b[1;33m[\u001b[0m\u001b[0md\u001b[0m\u001b[1;33m]\u001b[0m \u001b[1;33m=\u001b[0m \u001b[0mweather_info\u001b[0m\u001b[1;33m\u001b[0m\u001b[1;33m\u001b[0m\u001b[0m\n\u001b[0;32m     38\u001b[0m \u001b[1;33m\u001b[0m\u001b[0m\n",
      "\u001b[1;31mKeyboardInterrupt\u001b[0m: "
     ]
    }
   ],
   "source": [
    "# if __name__ == \"__main__\":\n",
    "obs_names = [\"Neihu\", \"Songshan\", \"Dazhi\", \"Wenshan\",\"Xizhi\", \"Shihding\", \"Shenkeng\"]\n",
    "obs_years = [\"2016\", \"2017\", \"2018\", \"2019\", \"2020\"]\n",
    "\n",
    "for name in obs_names:\n",
    "    for year in obs_years:\n",
    "        main(obs_name = name, obs_year = year)"
   ]
  },
  {
   "cell_type": "markdown",
   "metadata": {},
   "source": [
    "#### Reference:\n",
    "- [pandas.DataFrame.from_dict](https://pandas.pydata.org/pandas-docs/stable/reference/api/pandas.DataFrame.from_dict.html)\n",
    "- [pandas.DataFrame.to_csv](https://pandas.pydata.org/pandas-docs/stable/reference/api/pandas.DataFrame.to_csv.html)"
   ]
  },
  {
   "cell_type": "code",
   "execution_count": null,
   "metadata": {},
   "outputs": [],
   "source": []
  },
  {
   "cell_type": "code",
   "execution_count": null,
   "metadata": {},
   "outputs": [],
   "source": []
  }
 ],
 "metadata": {
  "kernelspec": {
   "display_name": "Python 3",
   "language": "python",
   "name": "python3"
  },
  "language_info": {
   "codemirror_mode": {
    "name": "ipython",
    "version": 3
   },
   "file_extension": ".py",
   "mimetype": "text/x-python",
   "name": "python",
   "nbconvert_exporter": "python",
   "pygments_lexer": "ipython3",
   "version": "3.8.2"
  }
 },
 "nbformat": 4,
 "nbformat_minor": 4
}
