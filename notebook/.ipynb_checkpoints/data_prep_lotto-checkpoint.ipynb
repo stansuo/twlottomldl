{
 "cells": [
  {
   "cell_type": "markdown",
   "metadata": {},
   "source": [
    "## Part A: Retrieveing Desired Lotto Numbers from Zip Files\n",
    "### Step A-1: Unzip\n",
    "- Issues\n",
    "    - Garbled Chinese file names\n",
    "- Refs\n",
    "    - [zipfile — Work with ZIP archives](https://docs.python.org/3/library/zipfile.html)\n",
    "    - [pathlib — Object-oriented filesystem paths](https://docs.python.org/3/library/pathlib.html)\n",
    "    - [【Python】使用 zipfile 解压含有中文文件名的 zip 文件](https://blog.csdn.net/u010099080/article/details/79829247)\n",
    "    - [Python: How to unzip a file | Extract Single, multiple or all files from a ZIP archive](https://thispointer.com/python-how-to-unzip-a-file-extract-single-multiple-or-all-files-from-a-zip-archive/)"
   ]
  },
  {
   "cell_type": "code",
   "execution_count": null,
   "metadata": {},
   "outputs": [],
   "source": [
    "from pathlib import Path\n",
    "from zipfile import ZipFile\n",
    "for year in range(103, 110):\n",
    "    print(f\"start unzip win_nums_{year}.zip\")\n",
    "    with ZipFile(f'../output/win_nums_{year}.zip', 'r') as zf:\n",
    "        for fn in zf.namelist():\n",
    "            extracted_path = Path(zf.extract(fn, path='../output/win_nums_all/'))\n",
    "            extracted_path.rename(f\"../output/win_nums_all/{fn.encode('cp437').decode('big5')}\")\n",
    "else:\n",
    "    print(\"All unzip complete!\")"
   ]
  },
  {
   "cell_type": "code",
   "execution_count": null,
   "metadata": {
    "jupyter": {
     "source_hidden": true
    }
   },
   "outputs": [],
   "source": [
    "# # 此法解壓縮後，中文檔名呈現亂碼\n",
    "# from zipfile import ZipFile\n",
    "# for year in range(103, 110):\n",
    "#     print(f\"Unzipping year win_nums_{year}.zip...\")\n",
    "#     with ZipFile(f'../output/win_nums_{year}.zip', 'r') as zf:\n",
    "#         zf.extractall(\"../output/\")\n",
    "# else:\n",
    "#     print(\"All unzip complete!\")"
   ]
  },
  {
   "cell_type": "markdown",
   "metadata": {},
   "source": [
    "---"
   ]
  },
  {
   "cell_type": "markdown",
   "metadata": {},
   "source": [
    "### Step A-2: Retrieve desired sheets from each unzipped folder\n",
    "- Issues\n",
    "    - Find the desired file in each folder\n",
    "- Refs\n",
    "    - "
   ]
  },
  {
   "cell_type": "code",
   "execution_count": 109,
   "metadata": {},
   "outputs": [],
   "source": [
    "import glob, os, re\n",
    "import numpy as np\n",
    "import pandas as pd"
   ]
  },
  {
   "cell_type": "code",
   "execution_count": 110,
   "metadata": {},
   "outputs": [
    {
     "data": {
      "text/plain": [
       "('1.19.1', '1.0.5')"
      ]
     },
     "execution_count": 110,
     "metadata": {},
     "output_type": "execute_result"
    }
   ],
   "source": [
    "np.__version__, pd.__version__"
   ]
  },
  {
   "cell_type": "markdown",
   "metadata": {},
   "source": [
    "==**ToDO: 已經可以找到檔案並轉成pd df，但要想辦法整個串起來**=="
   ]
  },
  {
   "cell_type": "code",
   "execution_count": 137,
   "metadata": {},
   "outputs": [
    {
     "ename": "SyntaxError",
     "evalue": "cannot assign to f-string expression (<ipython-input-137-faf3069899a1>, line 9)",
     "output_type": "error",
     "traceback": [
      "\u001b[1;36m  File \u001b[1;32m\"<ipython-input-137-faf3069899a1>\"\u001b[1;36m, line \u001b[1;32m9\u001b[0m\n\u001b[1;33m    f'win_nums_{year}_df' = pd.read_csv(full_path,\u001b[0m\n\u001b[1;37m    ^\u001b[0m\n\u001b[1;31mSyntaxError\u001b[0m\u001b[1;31m:\u001b[0m cannot assign to f-string expression\n"
     ]
    }
   ],
   "source": [
    "base_dir = '../output/win_nums_all/'\n",
    "for year in range(2014, 2021):\n",
    "    dir_path = f'../output/win_nums_all/{year}/'\n",
    "    full_path = \"\"\n",
    "    files = os.listdir(dir_path)\n",
    "    for file in files:\n",
    "        if file.startswith(\"大樂透_\"):\n",
    "            full_path = f'{dir_path}{file}'\n",
    "#             f'win_nums_{year}_df' = pd.read_csv(full_path, \n",
    "#                                                 header = 0, \n",
    "#                                                 parse_dates = True,\n",
    "#                                                 infer_datetime_format = True,\n",
    "#                                                 skipinitialspace = True)\n",
    "            \n",
    "#             f'win_nums_{year}_df' = f'win_nums_{year}_df'.reset_index()\n",
    "#             col_names = list(f'win_nums_{year}_df'.columns)\n",
    "#             f'win_nums_{year}_df' = f'win_nums_{year}_df'.iloc[:, 0:13]\n",
    "#             f'win_nums_{year}_df'.columns = col_names[4:17]\n",
    "#             f'win_nums_{year}_df'.head()"
   ]
  },
  {
   "cell_type": "code",
   "execution_count": 131,
   "metadata": {},
   "outputs": [
    {
     "name": "stdout",
     "output_type": "stream",
     "text": [
      "大樂透_202001_202006.csv\n"
     ]
    }
   ],
   "source": [
    "files = os.listdir(\"../output/win_nums_all/2020\")\n",
    "for file in files:\n",
    "    if file.startswith(\"大樂透_\"):\n",
    "        print(file)\n"
   ]
  },
  {
   "cell_type": "code",
   "execution_count": 86,
   "metadata": {
    "collapsed": true,
    "jupyter": {
     "outputs_hidden": true
    }
   },
   "outputs": [
    {
     "data": {
      "text/html": [
       "<div>\n",
       "<style scoped>\n",
       "    .dataframe tbody tr th:only-of-type {\n",
       "        vertical-align: middle;\n",
       "    }\n",
       "\n",
       "    .dataframe tbody tr th {\n",
       "        vertical-align: top;\n",
       "    }\n",
       "\n",
       "    .dataframe thead th {\n",
       "        text-align: right;\n",
       "    }\n",
       "</style>\n",
       "<table border=\"1\" class=\"dataframe\">\n",
       "  <thead>\n",
       "    <tr style=\"text-align: right;\">\n",
       "      <th></th>\n",
       "      <th>遊戲名稱</th>\n",
       "      <th>期別</th>\n",
       "      <th>開獎日期</th>\n",
       "      <th>銷售總額</th>\n",
       "      <th>銷售注數</th>\n",
       "      <th>總獎金</th>\n",
       "      <th>獎號1</th>\n",
       "      <th>獎號2</th>\n",
       "      <th>獎號3</th>\n",
       "      <th>獎號4</th>\n",
       "      <th>獎號5</th>\n",
       "      <th>獎號6</th>\n",
       "      <th>特別號</th>\n",
       "    </tr>\n",
       "  </thead>\n",
       "  <tbody>\n",
       "    <tr>\n",
       "      <th>0</th>\n",
       "      <td>大樂透</td>\n",
       "      <td>109000001</td>\n",
       "      <td>2020-01-03</td>\n",
       "      <td>112729500</td>\n",
       "      <td>2254590</td>\n",
       "      <td>217079550</td>\n",
       "      <td>16</td>\n",
       "      <td>18</td>\n",
       "      <td>19</td>\n",
       "      <td>29</td>\n",
       "      <td>30</td>\n",
       "      <td>47</td>\n",
       "      <td>10</td>\n",
       "    </tr>\n",
       "    <tr>\n",
       "      <th>1</th>\n",
       "      <td>大樂透</td>\n",
       "      <td>109000002</td>\n",
       "      <td>2020-01-07</td>\n",
       "      <td>117529800</td>\n",
       "      <td>2350596</td>\n",
       "      <td>248835825</td>\n",
       "      <td>1</td>\n",
       "      <td>5</td>\n",
       "      <td>8</td>\n",
       "      <td>15</td>\n",
       "      <td>16</td>\n",
       "      <td>38</td>\n",
       "      <td>7</td>\n",
       "    </tr>\n",
       "    <tr>\n",
       "      <th>2</th>\n",
       "      <td>大樂透</td>\n",
       "      <td>109000003</td>\n",
       "      <td>2020-01-10</td>\n",
       "      <td>121991550</td>\n",
       "      <td>2439831</td>\n",
       "      <td>266131509</td>\n",
       "      <td>4</td>\n",
       "      <td>7</td>\n",
       "      <td>12</td>\n",
       "      <td>17</td>\n",
       "      <td>33</td>\n",
       "      <td>38</td>\n",
       "      <td>11</td>\n",
       "    </tr>\n",
       "    <tr>\n",
       "      <th>3</th>\n",
       "      <td>大樂透</td>\n",
       "      <td>109000004</td>\n",
       "      <td>2020-01-14</td>\n",
       "      <td>125272850</td>\n",
       "      <td>2505457</td>\n",
       "      <td>290316408</td>\n",
       "      <td>7</td>\n",
       "      <td>20</td>\n",
       "      <td>34</td>\n",
       "      <td>37</td>\n",
       "      <td>38</td>\n",
       "      <td>47</td>\n",
       "      <td>18</td>\n",
       "    </tr>\n",
       "    <tr>\n",
       "      <th>4</th>\n",
       "      <td>大樂透</td>\n",
       "      <td>109000005</td>\n",
       "      <td>2020-01-17</td>\n",
       "      <td>101544800</td>\n",
       "      <td>2030896</td>\n",
       "      <td>56865088</td>\n",
       "      <td>7</td>\n",
       "      <td>9</td>\n",
       "      <td>20</td>\n",
       "      <td>42</td>\n",
       "      <td>44</td>\n",
       "      <td>45</td>\n",
       "      <td>8</td>\n",
       "    </tr>\n",
       "  </tbody>\n",
       "</table>\n",
       "</div>"
      ],
      "text/plain": [
       "  遊戲名稱         期別       開獎日期       銷售總額     銷售注數        總獎金  獎號1  獎號2  獎號3  \\\n",
       "0  大樂透  109000001 2020-01-03  112729500  2254590  217079550   16   18   19   \n",
       "1  大樂透  109000002 2020-01-07  117529800  2350596  248835825    1    5    8   \n",
       "2  大樂透  109000003 2020-01-10  121991550  2439831  266131509    4    7   12   \n",
       "3  大樂透  109000004 2020-01-14  125272850  2505457  290316408    7   20   34   \n",
       "4  大樂透  109000005 2020-01-17  101544800  2030896   56865088    7    9   20   \n",
       "\n",
       "   獎號4  獎號5  獎號6  特別號  \n",
       "0   29   30   47   10  \n",
       "1   15   16   38    7  \n",
       "2   17   33   38   11  \n",
       "3   37   38   47   18  \n",
       "4   42   44   45    8  "
      ]
     },
     "execution_count": 86,
     "metadata": {},
     "output_type": "execute_result"
    }
   ],
   "source": [
    "win_nums_2020_df = pd.read_csv(\"../output/win_nums_all/2020/大樂透_202001_202006.csv\", \n",
    "                               header=0 , \n",
    "                               parse_dates=True, \n",
    "                               infer_datetime_format=True,\n",
    "                               skipinitialspace=True,\n",
    "                               )\n",
    "win_nums_2020_df = win_nums_2020_df.reset_index()\n",
    "col_names = list(win_nums_2020_df.columns)\n",
    "win_nums_2020_df = win_nums_2020_df.iloc[:, 0:13]\n",
    "win_nums_2020_df.columns = col_names[4:17]\n",
    "win_nums_2020_df.head()"
   ]
  },
  {
   "cell_type": "code",
   "execution_count": 88,
   "metadata": {
    "collapsed": true,
    "jupyter": {
     "outputs_hidden": true
    }
   },
   "outputs": [
    {
     "data": {
      "text/html": [
       "<div>\n",
       "<style scoped>\n",
       "    .dataframe tbody tr th:only-of-type {\n",
       "        vertical-align: middle;\n",
       "    }\n",
       "\n",
       "    .dataframe tbody tr th {\n",
       "        vertical-align: top;\n",
       "    }\n",
       "\n",
       "    .dataframe thead th {\n",
       "        text-align: right;\n",
       "    }\n",
       "</style>\n",
       "<table border=\"1\" class=\"dataframe\">\n",
       "  <thead>\n",
       "    <tr style=\"text-align: right;\">\n",
       "      <th></th>\n",
       "      <th>遊戲名稱</th>\n",
       "      <th>期別</th>\n",
       "      <th>開獎日期</th>\n",
       "      <th>銷售總額</th>\n",
       "      <th>銷售注數</th>\n",
       "      <th>總獎金</th>\n",
       "      <th>獎號1</th>\n",
       "      <th>獎號2</th>\n",
       "      <th>獎號3</th>\n",
       "      <th>獎號4</th>\n",
       "      <th>獎號5</th>\n",
       "      <th>獎號6</th>\n",
       "      <th>特別號</th>\n",
       "    </tr>\n",
       "  </thead>\n",
       "  <tbody>\n",
       "    <tr>\n",
       "      <th>0</th>\n",
       "      <td>大樂透</td>\n",
       "      <td>108000001</td>\n",
       "      <td>2019-01-01</td>\n",
       "      <td>91627350</td>\n",
       "      <td>1832547</td>\n",
       "      <td>112561368</td>\n",
       "      <td>18</td>\n",
       "      <td>23</td>\n",
       "      <td>24</td>\n",
       "      <td>25</td>\n",
       "      <td>39</td>\n",
       "      <td>42</td>\n",
       "      <td>48</td>\n",
       "    </tr>\n",
       "    <tr>\n",
       "      <th>1</th>\n",
       "      <td>大樂透</td>\n",
       "      <td>108000002</td>\n",
       "      <td>2019-01-04</td>\n",
       "      <td>95802100</td>\n",
       "      <td>1916042</td>\n",
       "      <td>135747495</td>\n",
       "      <td>6</td>\n",
       "      <td>7</td>\n",
       "      <td>8</td>\n",
       "      <td>20</td>\n",
       "      <td>47</td>\n",
       "      <td>48</td>\n",
       "      <td>30</td>\n",
       "    </tr>\n",
       "    <tr>\n",
       "      <th>2</th>\n",
       "      <td>大樂透</td>\n",
       "      <td>108000003</td>\n",
       "      <td>2019-01-08</td>\n",
       "      <td>99581100</td>\n",
       "      <td>1991622</td>\n",
       "      <td>158928531</td>\n",
       "      <td>4</td>\n",
       "      <td>19</td>\n",
       "      <td>21</td>\n",
       "      <td>28</td>\n",
       "      <td>39</td>\n",
       "      <td>43</td>\n",
       "      <td>18</td>\n",
       "    </tr>\n",
       "    <tr>\n",
       "      <th>3</th>\n",
       "      <td>大樂透</td>\n",
       "      <td>108000004</td>\n",
       "      <td>2019-01-11</td>\n",
       "      <td>106519050</td>\n",
       "      <td>2130381</td>\n",
       "      <td>187871333</td>\n",
       "      <td>13</td>\n",
       "      <td>20</td>\n",
       "      <td>22</td>\n",
       "      <td>31</td>\n",
       "      <td>34</td>\n",
       "      <td>42</td>\n",
       "      <td>9</td>\n",
       "    </tr>\n",
       "    <tr>\n",
       "      <th>4</th>\n",
       "      <td>大樂透</td>\n",
       "      <td>108000005</td>\n",
       "      <td>2019-01-15</td>\n",
       "      <td>109107550</td>\n",
       "      <td>2182151</td>\n",
       "      <td>209734051</td>\n",
       "      <td>12</td>\n",
       "      <td>20</td>\n",
       "      <td>30</td>\n",
       "      <td>38</td>\n",
       "      <td>40</td>\n",
       "      <td>41</td>\n",
       "      <td>10</td>\n",
       "    </tr>\n",
       "  </tbody>\n",
       "</table>\n",
       "</div>"
      ],
      "text/plain": [
       "  遊戲名稱         期別       開獎日期       銷售總額     銷售注數        總獎金  獎號1  獎號2  獎號3  \\\n",
       "0  大樂透  108000001 2019-01-01   91627350  1832547  112561368   18   23   24   \n",
       "1  大樂透  108000002 2019-01-04   95802100  1916042  135747495    6    7    8   \n",
       "2  大樂透  108000003 2019-01-08   99581100  1991622  158928531    4   19   21   \n",
       "3  大樂透  108000004 2019-01-11  106519050  2130381  187871333   13   20   22   \n",
       "4  大樂透  108000005 2019-01-15  109107550  2182151  209734051   12   20   30   \n",
       "\n",
       "   獎號4  獎號5  獎號6  特別號  \n",
       "0   25   39   42   48  \n",
       "1   20   47   48   30  \n",
       "2   28   39   43   18  \n",
       "3   31   34   42    9  \n",
       "4   38   40   41   10  "
      ]
     },
     "execution_count": 88,
     "metadata": {},
     "output_type": "execute_result"
    }
   ],
   "source": [
    "win_nums_2019_df = pd.read_csv(\"../output/win_nums_all/2019/大樂透_2019.csv\", \n",
    "                               header=0 , \n",
    "                               parse_dates=True, \n",
    "                               infer_datetime_format=True,\n",
    "                               skipinitialspace=True,\n",
    "                               )\n",
    "win_nums_2019_df = win_nums_2019_df.reset_index()\n",
    "col_names = list(win_nums_2019_df.columns)\n",
    "win_nums_2019_df = win_nums_2019_df.iloc[:, 0:13]\n",
    "win_nums_2019_df.columns = col_names[4:17]\n",
    "win_nums_2019_df.head()"
   ]
  },
  {
   "cell_type": "code",
   "execution_count": 94,
   "metadata": {},
   "outputs": [
    {
     "name": "stdout",
     "output_type": "stream",
     "text": [
      "(172, 13)\n"
     ]
    }
   ],
   "source": [
    "win_nums_all_df = pd.concat([win_nums_2020_df, win_nums_2019_df])\n",
    "print(win_nums_all_df.shape)\n",
    "assert win_nums_all_df.shape[0] == win_nums_2020_df.shape[0] + win_nums_2019_df.shape[0]\n",
    "assert win_nums_all_df.shape[1] == win_nums_2020_df.shape[1] == win_nums_2019_df.shape[1]"
   ]
  },
  {
   "cell_type": "code",
   "execution_count": 67,
   "metadata": {},
   "outputs": [],
   "source": []
  },
  {
   "cell_type": "code",
   "execution_count": 70,
   "metadata": {},
   "outputs": [],
   "source": []
  },
  {
   "cell_type": "code",
   "execution_count": null,
   "metadata": {},
   "outputs": [],
   "source": []
  },
  {
   "cell_type": "code",
   "execution_count": null,
   "metadata": {},
   "outputs": [],
   "source": []
  }
 ],
 "metadata": {
  "kernelspec": {
   "display_name": "Python 3",
   "language": "python",
   "name": "python3"
  },
  "language_info": {
   "codemirror_mode": {
    "name": "ipython",
    "version": 3
   },
   "file_extension": ".py",
   "mimetype": "text/x-python",
   "name": "python",
   "nbconvert_exporter": "python",
   "pygments_lexer": "ipython3",
   "version": "3.8.1"
  }
 },
 "nbformat": 4,
 "nbformat_minor": 4
}
