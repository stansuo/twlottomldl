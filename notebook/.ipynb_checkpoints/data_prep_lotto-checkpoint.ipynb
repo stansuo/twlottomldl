{
 "cells": [
  {
   "cell_type": "markdown",
   "metadata": {},
   "source": [
    "## Part A: Retrieveing Desired Lotto Numbers from Zip Files\n",
    "### Step A-1: Unzip\n",
    "- Issues\n",
    "    - Garbled Chinese file names\n",
    "- Refs\n",
    "    - [zipfile — Work with ZIP archives](https://docs.python.org/3/library/zipfile.html)\n",
    "    - [pathlib — Object-oriented filesystem paths](https://docs.python.org/3/library/pathlib.html)\n",
    "    - [【Python】使用 zipfile 解压含有中文文件名的 zip 文件](https://blog.csdn.net/u010099080/article/details/79829247)\n",
    "    - [Python: How to unzip a file | Extract Single, multiple or all files from a ZIP archive](https://thispointer.com/python-how-to-unzip-a-file-extract-single-multiple-or-all-files-from-a-zip-archive/)"
   ]
  },
  {
   "cell_type": "code",
   "execution_count": 60,
   "metadata": {},
   "outputs": [
    {
     "name": "stdout",
     "output_type": "stream",
     "text": [
      "start unzip win_nums_103.zip\n",
      "start unzip win_nums_104.zip\n",
      "start unzip win_nums_105.zip\n",
      "start unzip win_nums_106.zip\n",
      "start unzip win_nums_107.zip\n",
      "start unzip win_nums_108.zip\n",
      "start unzip win_nums_109.zip\n",
      "All unzip complete!\n"
     ]
    }
   ],
   "source": [
    "from pathlib import Path\n",
    "from zipfile import ZipFile\n",
    "for year in range(103, 110):\n",
    "    print(f\"start unzip win_nums_{year}.zip\")\n",
    "    with ZipFile(f'../output/win_nums_{year}.zip', 'r') as zf:\n",
    "        for fn in zf.namelist():\n",
    "            extracted_path = Path(zf.extract(fn, path='../output/win_nums_all/'))\n",
    "            extracted_path.rename(f\"../output/win_nums_all/{fn.encode('cp437').decode('big5')}\")\n",
    "else:\n",
    "    print(\"All unzip complete!\")"
   ]
  },
  {
   "cell_type": "code",
   "execution_count": 40,
   "metadata": {
    "jupyter": {
     "source_hidden": true
    }
   },
   "outputs": [],
   "source": [
    "# # 此法解壓縮後，中文檔名呈現亂碼\n",
    "# from zipfile import ZipFile\n",
    "# for year in range(103, 110):\n",
    "#     print(f\"Unzipping year win_nums_{year}.zip...\")\n",
    "#     with ZipFile(f'../output/win_nums_{year}.zip', 'r') as zf:\n",
    "#         zf.extractall(\"../output/\")\n",
    "# else:\n",
    "#     print(\"All unzip complete!\")"
   ]
  },
  {
   "cell_type": "markdown",
   "metadata": {},
   "source": [
    "---"
   ]
  },
  {
   "cell_type": "markdown",
   "metadata": {},
   "source": [
    "### Step A-2: Retrieve desired sheets from each unzipped folder"
   ]
  },
  {
   "cell_type": "code",
   "execution_count": 61,
   "metadata": {},
   "outputs": [],
   "source": [
    "import re"
   ]
  },
  {
   "cell_type": "markdown",
   "metadata": {},
   "source": [
    "==**ToDO: 利用正規表示式，去各個年份的folder裡將大樂透的sheet撈出來，最好能直接merge成一張表**=="
   ]
  },
  {
   "cell_type": "code",
   "execution_count": null,
   "metadata": {},
   "outputs": [],
   "source": []
  },
  {
   "cell_type": "code",
   "execution_count": null,
   "metadata": {},
   "outputs": [],
   "source": []
  }
 ],
 "metadata": {
  "kernelspec": {
   "display_name": "Python 3",
   "language": "python",
   "name": "python3"
  },
  "language_info": {
   "codemirror_mode": {
    "name": "ipython",
    "version": 3
   },
   "file_extension": ".py",
   "mimetype": "text/x-python",
   "name": "python",
   "nbconvert_exporter": "python",
   "pygments_lexer": "ipython3",
   "version": "3.8.1"
  }
 },
 "nbformat": 4,
 "nbformat_minor": 4
}
