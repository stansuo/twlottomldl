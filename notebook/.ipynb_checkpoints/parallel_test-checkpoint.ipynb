{
 "cells": [
  {
   "cell_type": "code",
   "execution_count": null,
   "metadata": {},
   "outputs": [],
   "source": [
    "import multiprocessing\n",
    "from itertools import product\n",
    "\n",
    "def merge_names(a, b):\n",
    "    return '{} & {}'.format(a, b)\n",
    "\n",
    "obs_names = [\"Neihu\", \"Songshan\", \"Dazhi\", \"Wenshan\",\"Xizhi\", \"Shihding\", \"Shenkeng\"]\n",
    "obs_years = [\"2016\", \"2017\", \"2018\", \"2019\", \"2020\"]\n",
    "\n",
    "with multiprocessing.Pool(processes=3) as pool:\n",
    "    results = pool.starmap(merge_names, product(obs_names, obs_years))\n",
    "    print(results)\n"
   ]
  },
  {
   "cell_type": "code",
   "execution_count": null,
   "metadata": {},
   "outputs": [],
   "source": [
    "import multiprocessing\n",
    "from itertools import product\n",
    "\n",
    "def merge_names(a, b):\n",
    "    return '{} & {}'.format(a, b)\n",
    "\n",
    "if __name__ == '__main__':\n",
    "    names = ['Brown', 'Wilson', 'Bartlett', 'Rivera', 'Molloy', 'Opie']\n",
    "    with multiprocessing.Pool(processes=3) as pool:\n",
    "        results = pool.starmap(merge_names, product(names, repeat=2))\n",
    "    print(results)\n",
    "\n",
    "# Output: ['Brown & Brown', 'Brown & Wilson', 'Brown & Bartlett', ..."
   ]
  },
  {
   "cell_type": "code",
   "execution_count": null,
   "metadata": {},
   "outputs": [],
   "source": [
    "from multiprocessing import Pool\n",
    "\n",
    "def f(x):\n",
    "    return x*x"
   ]
  },
  {
   "cell_type": "code",
   "execution_count": null,
   "metadata": {},
   "outputs": [],
   "source": [
    "with Pool(5) as p:\n",
    "    print(p.map(f, [1, 2, 3]))"
   ]
  },
  {
   "cell_type": "code",
   "execution_count": null,
   "metadata": {},
   "outputs": [],
   "source": [
    "from multiprocessing import Pool\n",
    "import requests\n",
    "from bs4 import BeautifulSoup\n",
    "\n",
    "base_url = 'http://quotes.toscrape.com/page/'\n",
    "\n",
    "all_urls = list()\n",
    "\n",
    "def generate_urls():\n",
    "    for i in range(1,11):\n",
    "        all_urls.append(base_url + str(i))\n",
    "    \n",
    "def scrape(url):\n",
    "    res = requests.get(url)\n",
    "    print(res.status_code, res.url)\n",
    "\n",
    "generate_urls()\n",
    "\n",
    "p = Pool(10)\n",
    "p.map(scrape, all_urls)\n",
    "p.terminate()\n",
    "p.join()"
   ]
  },
  {
   "cell_type": "code",
   "execution_count": null,
   "metadata": {},
   "outputs": [],
   "source": [
    "! python ../bin/get_weather_info.py"
   ]
  },
  {
   "cell_type": "code",
   "execution_count": null,
   "metadata": {},
   "outputs": [],
   "source": [
    "import requests\n",
    "import datetime\n",
    "import time\n",
    "import random\n",
    "from pyquery import PyQuery as pq\n",
    "from selenium import webdriver\n",
    "import urllib.parse\n",
    "import numpy as np\n",
    "import pandas as pd "
   ]
  },
  {
   "cell_type": "code",
   "execution_count": null,
   "metadata": {},
   "outputs": [],
   "source": [
    "date_periods = {\n",
    "\"2017\": (datetime.date(2017, 1, 1), datetime.date(2017, 12, 31)),\n",
    "\"2018\": (datetime.date(2018, 1, 1), datetime.date(2018, 12, 31)),\n",
    "\"2019\": (datetime.date(2019, 1, 1), datetime.date(2019, 12, 31)),\n",
    "\"2020\": (datetime.date(2020, 1, 1), datetime.date(2020, 6, 30)),\n",
    "\"test\": (datetime.date(2020, 1, 1), datetime.date(2020, 1, 15)),\n",
    "}\n",
    "\n",
    "start_date = date_periods[\"2020\"][0]\n",
    "print(start_date)"
   ]
  },
  {
   "cell_type": "code",
   "execution_count": null,
   "metadata": {},
   "outputs": [],
   "source": []
  }
 ],
 "metadata": {
  "kernelspec": {
   "display_name": "Python 3",
   "language": "python",
   "name": "python3"
  },
  "language_info": {
   "codemirror_mode": {
    "name": "ipython",
    "version": 3
   },
   "file_extension": ".py",
   "mimetype": "text/x-python",
   "name": "python",
   "nbconvert_exporter": "python",
   "pygments_lexer": "ipython3",
   "version": "3.8.2"
  }
 },
 "nbformat": 4,
 "nbformat_minor": 4
}
