{
 "cells": [
  {
   "cell_type": "markdown",
   "metadata": {},
   "source": [
    "## Part A: Retrieveing Desired Lotto Numbers from Zip Files\n",
    "### Step A-1: Unzip\n",
    "- Issues\n",
    "    - Garbled Chinese file names\n",
    "- Refs\n",
    "    - [zipfile — Work with ZIP archives](https://docs.python.org/3/library/zipfile.html)\n",
    "    - [pathlib — Object-oriented filesystem paths](https://docs.python.org/3/library/pathlib.html)\n",
    "    - [【Python】使用 zipfile 解压含有中文文件名的 zip 文件](https://blog.csdn.net/u010099080/article/details/79829247)\n",
    "    - [Python: How to unzip a file | Extract Single, multiple or all files from a ZIP archive](https://thispointer.com/python-how-to-unzip-a-file-extract-single-multiple-or-all-files-from-a-zip-archive/)"
   ]
  },
  {
   "cell_type": "code",
   "execution_count": null,
   "metadata": {},
   "outputs": [],
   "source": [
    "from pathlib import Path\n",
    "from zipfile import ZipFile\n",
    "for year in range(103, 110):\n",
    "    print(f\"start unzip win_nums_{year}.zip\")\n",
    "    with ZipFile(f'../output/win_nums_{year}.zip', 'r') as zf:\n",
    "        for fn in zf.namelist():\n",
    "            extracted_path = Path(zf.extract(fn, path='../output/win_nums_all/'))\n",
    "            extracted_path.rename(f\"../output/win_nums_all/{fn.encode('cp437').decode('big5')}\")\n",
    "else:\n",
    "    print(\"All unzip complete!\")"
   ]
  },
  {
   "cell_type": "code",
   "execution_count": null,
   "metadata": {},
   "outputs": [],
   "source": [
    "# # 此法解壓縮後，中文檔名呈現亂碼\n",
    "# from zipfile import ZipFile\n",
    "# for year in range(103, 110):\n",
    "#     print(f\"Unzipping year win_nums_{year}.zip...\")\n",
    "#     with ZipFile(f'../output/win_nums_{year}.zip', 'r') as zf:\n",
    "#         zf.extractall(\"../output/\")\n",
    "# else:\n",
    "#     print(\"All unzip complete!\")"
   ]
  },
  {
   "cell_type": "markdown",
   "metadata": {},
   "source": [
    "---"
   ]
  },
  {
   "cell_type": "markdown",
   "metadata": {},
   "source": [
    "### Step A-2: Retrieve desired sheets from each unzipped folder\n",
    "- Issues\n",
    "    - Find the desired file in each folder\n",
    "- Refs\n",
    "    - [Python 的 Big5 與 UTF-8 檔案編碼轉換程式教學](https://officeguide.cc/python-big5-utf8-file-encoding-convertion-tutorial/)"
   ]
  },
  {
   "cell_type": "markdown",
   "metadata": {},
   "source": [
    "==**ToDO: 已經可以找到檔案並轉成pd df，但要想辦法整個串起來**=="
   ]
  },
  {
   "cell_type": "code",
   "execution_count": 13,
   "metadata": {},
   "outputs": [],
   "source": [
    "import os\n",
    "import numpy as np\n",
    "import pandas as pd"
   ]
  },
  {
   "cell_type": "code",
   "execution_count": 61,
   "metadata": {},
   "outputs": [],
   "source": [
    "def win_nums_csv_to_df(path:str):\n",
    "    df = pd.read_csv(path, \n",
    "                     header=0 , \n",
    "                     parse_dates=True, \n",
    "                     infer_datetime_format=True,\n",
    "                     skipinitialspace=True,\n",
    "                     )\n",
    "    df = df.reset_index()\n",
    "    col_names = list(df.columns)\n",
    "    df = df.iloc[:, 0:13]\n",
    "    df.columns = col_names[4:17]\n",
    "    return df"
   ]
  },
  {
   "cell_type": "code",
   "execution_count": 71,
   "metadata": {},
   "outputs": [
    {
     "name": "stdout",
     "output_type": "stream",
     "text": [
      "   遊戲名稱         期別       開獎日期       銷售總額     銷售注數        總獎金  獎號1  獎號2  獎號3  \\\n",
      "0   大樂透  103000001 2014-01-03  146792850  2935857   80736067   11   18   20   \n",
      "1   大樂透  103000002 2014-01-07  132190750  2643815  106318850    1    7   21   \n",
      "2   大樂透  103000003 2014-01-10  140617450  2812349  149849635    7   17   19   \n",
      "3   大樂透  103000004 2014-01-14  128619400  2572388   70740670    2   11   21   \n",
      "4   大樂透  103000005 2014-01-17  141157800  2823156  108354326   13   15   20   \n",
      "..  ...        ...        ...        ...      ...        ...  ...  ...  ...   \n",
      "55  大樂透  109000056 2020-06-16  142703600  2854072  160593624    6   13   20   \n",
      "56  大樂透  109000057 2020-06-19  133453900  2669078   74734184    1   15   16   \n",
      "57  大樂透  109000058 2020-06-23  139006850  2780137  109169790    1    2   16   \n",
      "58  大樂透  109000059 2020-06-26  140647400  2812948  141275751   10   12   16   \n",
      "59  大樂透  109000060 2020-06-30  134411400  2688228  169667082   26   29   31   \n",
      "\n",
      "    獎號4  獎號5  獎號6  特別號  \n",
      "0    21   35   37    8  \n",
      "1    25   35   36   39  \n",
      "2    30   32   37    3  \n",
      "3    41   45   49   26  \n",
      "4    26   29   36   37  \n",
      "..  ...  ...  ...  ...  \n",
      "55   23   29   46   42  \n",
      "56   25   43   46    6  \n",
      "57   22   27   45   13  \n",
      "58   37   40   41    5  \n",
      "59   43   46   49    6  \n",
      "\n",
      "[716 rows x 13 columns]\n"
     ]
    }
   ],
   "source": [
    "# main()\n",
    "base_dir = '../output/win_nums_all/'\n",
    "year_nums_dict = dict()\n",
    "win_nums_all_df = pd.DataFrame(data=None)\n",
    "for year in range(2014, 2021):\n",
    "    dir_path = f'../output/win_nums_all/{year}/'\n",
    "    full_path = \"\"\n",
    "    files = os.listdir(dir_path)\n",
    "    for file in files:\n",
    "        if file.startswith(\"大樂透_\"):\n",
    "            full_path = f'{dir_path}{file}'\n",
    "            df = win_nums_csv_to_df(full_path)\n",
    "            win_nums_all_df = pd.concat([win_nums_all_df, df], axis = 0)\n",
    "else:\n",
    "    print(win_nums_all_df)\n",
    "    win_nums_all_df.to_csv('../output/win_nums_all/win_nums_all.csv', encoding= \"big5\" )"
   ]
  },
  {
   "cell_type": "markdown",
   "metadata": {},
   "source": [
    "---\n",
    "## Tests & Ref Codes"
   ]
  },
  {
   "cell_type": "code",
   "execution_count": null,
   "metadata": {},
   "outputs": [],
   "source": [
    "with open(\"big5_input.txt\", \"r\", encoding = \"Big5\") as inFile, open(\"utf8_output.txt\", \"w\", encoding = \"UTF-8\") as outFile:\n",
    "    outFile.write(inFile.read())"
   ]
  },
  {
   "cell_type": "code",
   "execution_count": 4,
   "metadata": {},
   "outputs": [
    {
     "name": "stdout",
     "output_type": "stream",
     "text": [
      "大樂透_202001_202006.csv\n"
     ]
    }
   ],
   "source": [
    "files = os.listdir(\"../output/win_nums_all/2020\")\n",
    "for file in files:\n",
    "    if file.startswith(\"大樂透_\"):\n",
    "        print(file)"
   ]
  },
  {
   "cell_type": "code",
   "execution_count": 16,
   "metadata": {},
   "outputs": [
    {
     "data": {
      "text/html": [
       "<div>\n",
       "<style scoped>\n",
       "    .dataframe tbody tr th:only-of-type {\n",
       "        vertical-align: middle;\n",
       "    }\n",
       "\n",
       "    .dataframe tbody tr th {\n",
       "        vertical-align: top;\n",
       "    }\n",
       "\n",
       "    .dataframe thead th {\n",
       "        text-align: right;\n",
       "    }\n",
       "</style>\n",
       "<table border=\"1\" class=\"dataframe\">\n",
       "  <thead>\n",
       "    <tr style=\"text-align: right;\">\n",
       "      <th></th>\n",
       "      <th>遊戲名稱</th>\n",
       "      <th>期別</th>\n",
       "      <th>開獎日期</th>\n",
       "      <th>銷售總額</th>\n",
       "      <th>銷售注數</th>\n",
       "      <th>總獎金</th>\n",
       "      <th>獎號1</th>\n",
       "      <th>獎號2</th>\n",
       "      <th>獎號3</th>\n",
       "      <th>獎號4</th>\n",
       "      <th>獎號5</th>\n",
       "      <th>獎號6</th>\n",
       "      <th>特別號</th>\n",
       "    </tr>\n",
       "  </thead>\n",
       "  <tbody>\n",
       "    <tr>\n",
       "      <th>0</th>\n",
       "      <td>大樂透</td>\n",
       "      <td>109000001</td>\n",
       "      <td>2020-01-03</td>\n",
       "      <td>112729500</td>\n",
       "      <td>2254590</td>\n",
       "      <td>217079550</td>\n",
       "      <td>16</td>\n",
       "      <td>18</td>\n",
       "      <td>19</td>\n",
       "      <td>29</td>\n",
       "      <td>30</td>\n",
       "      <td>47</td>\n",
       "      <td>10</td>\n",
       "    </tr>\n",
       "    <tr>\n",
       "      <th>1</th>\n",
       "      <td>大樂透</td>\n",
       "      <td>109000002</td>\n",
       "      <td>2020-01-07</td>\n",
       "      <td>117529800</td>\n",
       "      <td>2350596</td>\n",
       "      <td>248835825</td>\n",
       "      <td>1</td>\n",
       "      <td>5</td>\n",
       "      <td>8</td>\n",
       "      <td>15</td>\n",
       "      <td>16</td>\n",
       "      <td>38</td>\n",
       "      <td>7</td>\n",
       "    </tr>\n",
       "    <tr>\n",
       "      <th>2</th>\n",
       "      <td>大樂透</td>\n",
       "      <td>109000003</td>\n",
       "      <td>2020-01-10</td>\n",
       "      <td>121991550</td>\n",
       "      <td>2439831</td>\n",
       "      <td>266131509</td>\n",
       "      <td>4</td>\n",
       "      <td>7</td>\n",
       "      <td>12</td>\n",
       "      <td>17</td>\n",
       "      <td>33</td>\n",
       "      <td>38</td>\n",
       "      <td>11</td>\n",
       "    </tr>\n",
       "    <tr>\n",
       "      <th>3</th>\n",
       "      <td>大樂透</td>\n",
       "      <td>109000004</td>\n",
       "      <td>2020-01-14</td>\n",
       "      <td>125272850</td>\n",
       "      <td>2505457</td>\n",
       "      <td>290316408</td>\n",
       "      <td>7</td>\n",
       "      <td>20</td>\n",
       "      <td>34</td>\n",
       "      <td>37</td>\n",
       "      <td>38</td>\n",
       "      <td>47</td>\n",
       "      <td>18</td>\n",
       "    </tr>\n",
       "    <tr>\n",
       "      <th>4</th>\n",
       "      <td>大樂透</td>\n",
       "      <td>109000005</td>\n",
       "      <td>2020-01-17</td>\n",
       "      <td>101544800</td>\n",
       "      <td>2030896</td>\n",
       "      <td>56865088</td>\n",
       "      <td>7</td>\n",
       "      <td>9</td>\n",
       "      <td>20</td>\n",
       "      <td>42</td>\n",
       "      <td>44</td>\n",
       "      <td>45</td>\n",
       "      <td>8</td>\n",
       "    </tr>\n",
       "  </tbody>\n",
       "</table>\n",
       "</div>"
      ],
      "text/plain": [
       "  遊戲名稱         期別       開獎日期       銷售總額     銷售注數        總獎金  獎號1  獎號2  獎號3  \\\n",
       "0  大樂透  109000001 2020-01-03  112729500  2254590  217079550   16   18   19   \n",
       "1  大樂透  109000002 2020-01-07  117529800  2350596  248835825    1    5    8   \n",
       "2  大樂透  109000003 2020-01-10  121991550  2439831  266131509    4    7   12   \n",
       "3  大樂透  109000004 2020-01-14  125272850  2505457  290316408    7   20   34   \n",
       "4  大樂透  109000005 2020-01-17  101544800  2030896   56865088    7    9   20   \n",
       "\n",
       "   獎號4  獎號5  獎號6  特別號  \n",
       "0   29   30   47   10  \n",
       "1   15   16   38    7  \n",
       "2   17   33   38   11  \n",
       "3   37   38   47   18  \n",
       "4   42   44   45    8  "
      ]
     },
     "execution_count": 16,
     "metadata": {},
     "output_type": "execute_result"
    }
   ],
   "source": [
    "win_nums_2020_df = pd.read_csv(\"../output/win_nums_all/2020/大樂透_202001_202006.csv\", \n",
    "                               header=0 , \n",
    "                               parse_dates=True, \n",
    "                               infer_datetime_format=True,\n",
    "                               skipinitialspace=True,\n",
    "                               )\n",
    "win_nums_2020_df = win_nums_2020_df.reset_index()\n",
    "col_names = list(win_nums_2020_df.columns)\n",
    "win_nums_2020_df = win_nums_2020_df.iloc[:, 0:13]\n",
    "win_nums_2020_df.columns = col_names[4:17]\n",
    "win_nums_2020_df.head()"
   ]
  },
  {
   "cell_type": "code",
   "execution_count": null,
   "metadata": {},
   "outputs": [],
   "source": []
  },
  {
   "cell_type": "code",
   "execution_count": null,
   "metadata": {},
   "outputs": [],
   "source": []
  },
  {
   "cell_type": "code",
   "execution_count": null,
   "metadata": {},
   "outputs": [],
   "source": []
  },
  {
   "cell_type": "code",
   "execution_count": null,
   "metadata": {},
   "outputs": [],
   "source": []
  }
 ],
 "metadata": {
  "kernelspec": {
   "display_name": "Python 3",
   "language": "python",
   "name": "python3"
  },
  "language_info": {
   "codemirror_mode": {
    "name": "ipython",
    "version": 3
   },
   "file_extension": ".py",
   "mimetype": "text/x-python",
   "name": "python",
   "nbconvert_exporter": "python",
   "pygments_lexer": "ipython3",
   "version": "3.8.1"
  }
 },
 "nbformat": 4,
 "nbformat_minor": 4
}
