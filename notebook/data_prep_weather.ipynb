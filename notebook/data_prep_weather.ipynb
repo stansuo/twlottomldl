{
 "cells": [
  {
   "cell_type": "markdown",
   "metadata": {},
   "source": [
    "## Part B: Combine weather info to a single dataset.\n",
    "### Step B1: For each observatory, concat the yearly sheets into one single table\n",
    "- Issues\n",
    "    - Rename all the column names except 'date'\n",
    "\n",
    "### Step B2: Join the data (on 'date') of all observatories into one single dataset\n",
    "- Issues\n",
    "    - Cannot merge empty dataframe. Thus add a condition, if empty, assign the df directly; if not empty, do merge(join)"
   ]
  },
  {
   "cell_type": "code",
   "execution_count": 20,
   "metadata": {},
   "outputs": [],
   "source": [
    "import os\n",
    "import numpy as np\n",
    "import pandas as pd\n",
    "import time\n",
    "\n",
    "def weather_by_obs(target:str, directory:str):\n",
    "    '''\n",
    "    In a specified directory, \n",
    "    retrieve all files containing string target in their file name, \n",
    "    and concat them into a single dataframe.\n",
    "    '''\n",
    "    base_col_names = ['date', 'pres_hpa', 'temp_cels', 'rh_percent']\n",
    "    col_names = [(target + \"_\" + n) for n in base_col_names]\n",
    "    weather_by_obs_df = pd.DataFrame(data=None)\n",
    "    files = os.listdir(directory)\n",
    "    for file in files:\n",
    "        if target in file:\n",
    "#             print(file)\n",
    "            df = pd.read_csv(f'../output/weather_all/{file}',\n",
    "                             names = col_names,\n",
    "                             header = 0,\n",
    "                             parse_dates=True,\n",
    "                             infer_datetime_format=True,\n",
    "                            ).rename(columns = {f'{target}_date':'date'})\n",
    "            weather_by_obs_df = pd.concat([weather_by_obs_df,df])\n",
    "#             print(weather_by_obs_df.shape)\n",
    "    return weather_by_obs_df"
   ]
  },
  {
   "cell_type": "code",
   "execution_count": 43,
   "metadata": {},
   "outputs": [
    {
     "name": "stdout",
     "output_type": "stream",
     "text": [
      "(1643, 4)\n",
      "(1643, 7)\n",
      "(1643, 10)\n",
      "(1643, 13)\n",
      "(1643, 16)\n",
      "(1643, 19)\n",
      "(1643, 22)\n",
      "final: (1643, 22)\n",
      "complete!!\n"
     ]
    }
   ],
   "source": [
    "# if __name__ == \"__main__\": \n",
    "directory = '../output/weather_all/'\n",
    "obs_names = [\"Neihu\", \"Songshan\", \"Dazhi\", \"Wenshan\", \"Xizhi\", \"Shihding\", \"Shenkeng\"]\n",
    "weather_all_df = pd.DataFrame(data=None)\n",
    "\n",
    "for obs_name in obs_names:\n",
    "    if weather_all_df.empty:\n",
    "        weather_all_df = weather_by_obs(obs_name, directory)\n",
    "    else:\n",
    "        df = weather_by_obs(obs_name, directory)\n",
    "    #     weather_all_df = pd.concat([weather_all_df, df], axis=1)\n",
    "        weather_all_df = pd.merge(weather_all_df, df, how='outer', on='date')\n",
    "    print(weather_all_df.shape)\n",
    "else:\n",
    "    print(f'final: {weather_all_df.shape}')\n",
    "    weather_all_df.to_csv(f'../output/weather_all/weather_all_{time.strftime(\"%Y%m%dT%H%M%S\", time.localtime())}.csv', \n",
    "                          index = False )\n",
    "    print('complete!!')\n",
    "        \n",
    "            "
   ]
  }
 ],
 "metadata": {
  "kernelspec": {
   "display_name": "Python 3",
   "language": "python",
   "name": "python3"
  },
  "language_info": {
   "codemirror_mode": {
    "name": "ipython",
    "version": 3
   },
   "file_extension": ".py",
   "mimetype": "text/x-python",
   "name": "python",
   "nbconvert_exporter": "python",
   "pygments_lexer": "ipython3",
   "version": "3.8.1"
  }
 },
 "nbformat": 4,
 "nbformat_minor": 4
}
